{
  "nbformat": 4,
  "nbformat_minor": 0,
  "metadata": {
    "colab": {
      "name": "FashionMNIST.ipynb",
      "provenance": []
    },
    "kernelspec": {
      "name": "python3",
      "display_name": "Python 3"
    },
    "language_info": {
      "name": "python"
    },
    "accelerator": "GPU",
    "gpuClass": "standard"
  },
  "cells": [
    {
      "cell_type": "code",
      "execution_count": null,
      "metadata": {
        "id": "K0_NNtVjc6WJ"
      },
      "outputs": [],
      "source": [
        "import numpy as np\n",
        "import pandas as pd\n",
        "from sklearn.model_selection import train_test_split\n",
        "from sklearn.metrics import confusion_matrix\n",
        "from sklearn.metrics import classification_report\n",
        "from tensorflow.python import keras\n",
        "from tensorflow.keras.layers import BatchNormalization\n",
        "from tensorflow.python.keras.models import Sequential\n",
        "from tensorflow.keras.layers import MaxPool2D\n",
        "import tensorflow.keras.utils \n",
        "from tensorflow.keras.utils import to_categorical\n",
        "from keras import utils as np_utils\n",
        "from tensorflow.python.keras.layers import Dense, Flatten, Conv2D, Dropout, MaxPooling2D\n",
        "from keras.utils.vis_utils import model_to_dot\n",
        "from keras.utils import np_utils\n",
        "import seaborn as sn\n",
        "import matplotlib.pyplot as plt\n",
        "from keras import backend as K"
      ]
    },
    {
      "cell_type": "code",
      "source": [
        "import visualkeras"
      ],
      "metadata": {
        "id": "pljl8kojoBfV"
      },
      "execution_count": null,
      "outputs": []
    },
    {
      "cell_type": "code",
      "source": [
        "## Important functions \n",
        "\n",
        "## -------------------------------------------------------------------- ##\n",
        "\n",
        "def F1_Score(y_true, y_pred): \n",
        "  true_positives = K.sum(K.round(K.clip(y_true * y_pred, 0, 1)))\n",
        "  possible_positives = K.sum(K.round(K.clip(y_true, 0, 1)))\n",
        "  predicted_positives = K.sum(K.round(K.clip(y_pred, 0, 1)))\n",
        "  precision = true_positives / (predicted_positives + K.epsilon())\n",
        "  recall = true_positives / (possible_positives + K.epsilon())\n",
        "  f1_val = 2*(precision*recall)/(precision+recall+K.epsilon())\n",
        "  return f1_val\n",
        "\n",
        "## -------------------------------------------------------------------- ##\n",
        "def preprocessing(raw, num_classes, im_rows, im_columns):\n",
        "  out_y = tensorflow.keras.utils.to_categorical(raw.label, num_classes)\n",
        "  num_images = raw.shape[0]\n",
        "  x_as_array = raw.values[:,1:]\n",
        "  x_reshaped = x_as_array.reshape(num_images, im_rows, im_columns, 1)\n",
        "  normalized_x = x_reshaped / 255\n",
        "\n",
        "  return normalized_x, out_y"
      ],
      "metadata": {
        "id": "Gtw64YMWd1Je"
      },
      "execution_count": null,
      "outputs": []
    },
    {
      "cell_type": "code",
      "source": [
        "train_file = '/content/drive/MyDrive/Neural Networks & Deep Learning/FashionMNIST/fashion-mnist_train.csv'\n",
        "test_file = '/content/drive/MyDrive/Neural Networks & Deep Learning/FashionMNIST/fashion-mnist_test.csv'"
      ],
      "metadata": {
        "id": "h7-P4JckdHZr"
      },
      "execution_count": null,
      "outputs": []
    },
    {
      "cell_type": "code",
      "source": [
        "train_data = pd.read_csv(train_file)\n",
        "test_data = pd.read_csv(test_file)"
      ],
      "metadata": {
        "id": "SyDoqV3zdx5s"
      },
      "execution_count": null,
      "outputs": []
    },
    {
      "cell_type": "code",
      "source": [
        "train_data"
      ],
      "metadata": {
        "colab": {
          "base_uri": "https://localhost:8080/",
          "height": 424
        },
        "id": "ILcXY-pTf40K",
        "outputId": "ee80e9e1-582b-4890-fa26-c5835aa3aae2"
      },
      "execution_count": null,
      "outputs": [
        {
          "output_type": "execute_result",
          "data": {
            "text/plain": [
              "       label  pixel1  pixel2  pixel3  pixel4  pixel5  pixel6  pixel7  pixel8  \\\n",
              "0          2       0       0       0       0       0       0       0       0   \n",
              "1          9       0       0       0       0       0       0       0       0   \n",
              "2          6       0       0       0       0       0       0       0       5   \n",
              "3          0       0       0       0       1       2       0       0       0   \n",
              "4          3       0       0       0       0       0       0       0       0   \n",
              "...      ...     ...     ...     ...     ...     ...     ...     ...     ...   \n",
              "59995      9       0       0       0       0       0       0       0       0   \n",
              "59996      1       0       0       0       0       0       0       0       0   \n",
              "59997      8       0       0       0       0       0       0       0       0   \n",
              "59998      8       0       0       0       0       0       0       0       0   \n",
              "59999      7       0       0       0       0       0       0       0       0   \n",
              "\n",
              "       pixel9  ...  pixel775  pixel776  pixel777  pixel778  pixel779  \\\n",
              "0           0  ...         0         0         0         0         0   \n",
              "1           0  ...         0         0         0         0         0   \n",
              "2           0  ...         0         0         0        30        43   \n",
              "3           0  ...         3         0         0         0         0   \n",
              "4           0  ...         0         0         0         0         0   \n",
              "...       ...  ...       ...       ...       ...       ...       ...   \n",
              "59995       0  ...         0         0         0         0         0   \n",
              "59996       0  ...        73         0         0         0         0   \n",
              "59997       0  ...       160       162       163       135        94   \n",
              "59998       0  ...         0         0         0         0         0   \n",
              "59999       0  ...         0         0         0         0         0   \n",
              "\n",
              "       pixel780  pixel781  pixel782  pixel783  pixel784  \n",
              "0             0         0         0         0         0  \n",
              "1             0         0         0         0         0  \n",
              "2             0         0         0         0         0  \n",
              "3             1         0         0         0         0  \n",
              "4             0         0         0         0         0  \n",
              "...         ...       ...       ...       ...       ...  \n",
              "59995         0         0         0         0         0  \n",
              "59996         0         0         0         0         0  \n",
              "59997         0         0         0         0         0  \n",
              "59998         0         0         0         0         0  \n",
              "59999         0         0         0         0         0  \n",
              "\n",
              "[60000 rows x 785 columns]"
            ],
            "text/html": [
              "\n",
              "  <div id=\"df-6302fb39-6ea6-4b22-900f-6420919f71e3\">\n",
              "    <div class=\"colab-df-container\">\n",
              "      <div>\n",
              "<style scoped>\n",
              "    .dataframe tbody tr th:only-of-type {\n",
              "        vertical-align: middle;\n",
              "    }\n",
              "\n",
              "    .dataframe tbody tr th {\n",
              "        vertical-align: top;\n",
              "    }\n",
              "\n",
              "    .dataframe thead th {\n",
              "        text-align: right;\n",
              "    }\n",
              "</style>\n",
              "<table border=\"1\" class=\"dataframe\">\n",
              "  <thead>\n",
              "    <tr style=\"text-align: right;\">\n",
              "      <th></th>\n",
              "      <th>label</th>\n",
              "      <th>pixel1</th>\n",
              "      <th>pixel2</th>\n",
              "      <th>pixel3</th>\n",
              "      <th>pixel4</th>\n",
              "      <th>pixel5</th>\n",
              "      <th>pixel6</th>\n",
              "      <th>pixel7</th>\n",
              "      <th>pixel8</th>\n",
              "      <th>pixel9</th>\n",
              "      <th>...</th>\n",
              "      <th>pixel775</th>\n",
              "      <th>pixel776</th>\n",
              "      <th>pixel777</th>\n",
              "      <th>pixel778</th>\n",
              "      <th>pixel779</th>\n",
              "      <th>pixel780</th>\n",
              "      <th>pixel781</th>\n",
              "      <th>pixel782</th>\n",
              "      <th>pixel783</th>\n",
              "      <th>pixel784</th>\n",
              "    </tr>\n",
              "  </thead>\n",
              "  <tbody>\n",
              "    <tr>\n",
              "      <th>0</th>\n",
              "      <td>2</td>\n",
              "      <td>0</td>\n",
              "      <td>0</td>\n",
              "      <td>0</td>\n",
              "      <td>0</td>\n",
              "      <td>0</td>\n",
              "      <td>0</td>\n",
              "      <td>0</td>\n",
              "      <td>0</td>\n",
              "      <td>0</td>\n",
              "      <td>...</td>\n",
              "      <td>0</td>\n",
              "      <td>0</td>\n",
              "      <td>0</td>\n",
              "      <td>0</td>\n",
              "      <td>0</td>\n",
              "      <td>0</td>\n",
              "      <td>0</td>\n",
              "      <td>0</td>\n",
              "      <td>0</td>\n",
              "      <td>0</td>\n",
              "    </tr>\n",
              "    <tr>\n",
              "      <th>1</th>\n",
              "      <td>9</td>\n",
              "      <td>0</td>\n",
              "      <td>0</td>\n",
              "      <td>0</td>\n",
              "      <td>0</td>\n",
              "      <td>0</td>\n",
              "      <td>0</td>\n",
              "      <td>0</td>\n",
              "      <td>0</td>\n",
              "      <td>0</td>\n",
              "      <td>...</td>\n",
              "      <td>0</td>\n",
              "      <td>0</td>\n",
              "      <td>0</td>\n",
              "      <td>0</td>\n",
              "      <td>0</td>\n",
              "      <td>0</td>\n",
              "      <td>0</td>\n",
              "      <td>0</td>\n",
              "      <td>0</td>\n",
              "      <td>0</td>\n",
              "    </tr>\n",
              "    <tr>\n",
              "      <th>2</th>\n",
              "      <td>6</td>\n",
              "      <td>0</td>\n",
              "      <td>0</td>\n",
              "      <td>0</td>\n",
              "      <td>0</td>\n",
              "      <td>0</td>\n",
              "      <td>0</td>\n",
              "      <td>0</td>\n",
              "      <td>5</td>\n",
              "      <td>0</td>\n",
              "      <td>...</td>\n",
              "      <td>0</td>\n",
              "      <td>0</td>\n",
              "      <td>0</td>\n",
              "      <td>30</td>\n",
              "      <td>43</td>\n",
              "      <td>0</td>\n",
              "      <td>0</td>\n",
              "      <td>0</td>\n",
              "      <td>0</td>\n",
              "      <td>0</td>\n",
              "    </tr>\n",
              "    <tr>\n",
              "      <th>3</th>\n",
              "      <td>0</td>\n",
              "      <td>0</td>\n",
              "      <td>0</td>\n",
              "      <td>0</td>\n",
              "      <td>1</td>\n",
              "      <td>2</td>\n",
              "      <td>0</td>\n",
              "      <td>0</td>\n",
              "      <td>0</td>\n",
              "      <td>0</td>\n",
              "      <td>...</td>\n",
              "      <td>3</td>\n",
              "      <td>0</td>\n",
              "      <td>0</td>\n",
              "      <td>0</td>\n",
              "      <td>0</td>\n",
              "      <td>1</td>\n",
              "      <td>0</td>\n",
              "      <td>0</td>\n",
              "      <td>0</td>\n",
              "      <td>0</td>\n",
              "    </tr>\n",
              "    <tr>\n",
              "      <th>4</th>\n",
              "      <td>3</td>\n",
              "      <td>0</td>\n",
              "      <td>0</td>\n",
              "      <td>0</td>\n",
              "      <td>0</td>\n",
              "      <td>0</td>\n",
              "      <td>0</td>\n",
              "      <td>0</td>\n",
              "      <td>0</td>\n",
              "      <td>0</td>\n",
              "      <td>...</td>\n",
              "      <td>0</td>\n",
              "      <td>0</td>\n",
              "      <td>0</td>\n",
              "      <td>0</td>\n",
              "      <td>0</td>\n",
              "      <td>0</td>\n",
              "      <td>0</td>\n",
              "      <td>0</td>\n",
              "      <td>0</td>\n",
              "      <td>0</td>\n",
              "    </tr>\n",
              "    <tr>\n",
              "      <th>...</th>\n",
              "      <td>...</td>\n",
              "      <td>...</td>\n",
              "      <td>...</td>\n",
              "      <td>...</td>\n",
              "      <td>...</td>\n",
              "      <td>...</td>\n",
              "      <td>...</td>\n",
              "      <td>...</td>\n",
              "      <td>...</td>\n",
              "      <td>...</td>\n",
              "      <td>...</td>\n",
              "      <td>...</td>\n",
              "      <td>...</td>\n",
              "      <td>...</td>\n",
              "      <td>...</td>\n",
              "      <td>...</td>\n",
              "      <td>...</td>\n",
              "      <td>...</td>\n",
              "      <td>...</td>\n",
              "      <td>...</td>\n",
              "      <td>...</td>\n",
              "    </tr>\n",
              "    <tr>\n",
              "      <th>59995</th>\n",
              "      <td>9</td>\n",
              "      <td>0</td>\n",
              "      <td>0</td>\n",
              "      <td>0</td>\n",
              "      <td>0</td>\n",
              "      <td>0</td>\n",
              "      <td>0</td>\n",
              "      <td>0</td>\n",
              "      <td>0</td>\n",
              "      <td>0</td>\n",
              "      <td>...</td>\n",
              "      <td>0</td>\n",
              "      <td>0</td>\n",
              "      <td>0</td>\n",
              "      <td>0</td>\n",
              "      <td>0</td>\n",
              "      <td>0</td>\n",
              "      <td>0</td>\n",
              "      <td>0</td>\n",
              "      <td>0</td>\n",
              "      <td>0</td>\n",
              "    </tr>\n",
              "    <tr>\n",
              "      <th>59996</th>\n",
              "      <td>1</td>\n",
              "      <td>0</td>\n",
              "      <td>0</td>\n",
              "      <td>0</td>\n",
              "      <td>0</td>\n",
              "      <td>0</td>\n",
              "      <td>0</td>\n",
              "      <td>0</td>\n",
              "      <td>0</td>\n",
              "      <td>0</td>\n",
              "      <td>...</td>\n",
              "      <td>73</td>\n",
              "      <td>0</td>\n",
              "      <td>0</td>\n",
              "      <td>0</td>\n",
              "      <td>0</td>\n",
              "      <td>0</td>\n",
              "      <td>0</td>\n",
              "      <td>0</td>\n",
              "      <td>0</td>\n",
              "      <td>0</td>\n",
              "    </tr>\n",
              "    <tr>\n",
              "      <th>59997</th>\n",
              "      <td>8</td>\n",
              "      <td>0</td>\n",
              "      <td>0</td>\n",
              "      <td>0</td>\n",
              "      <td>0</td>\n",
              "      <td>0</td>\n",
              "      <td>0</td>\n",
              "      <td>0</td>\n",
              "      <td>0</td>\n",
              "      <td>0</td>\n",
              "      <td>...</td>\n",
              "      <td>160</td>\n",
              "      <td>162</td>\n",
              "      <td>163</td>\n",
              "      <td>135</td>\n",
              "      <td>94</td>\n",
              "      <td>0</td>\n",
              "      <td>0</td>\n",
              "      <td>0</td>\n",
              "      <td>0</td>\n",
              "      <td>0</td>\n",
              "    </tr>\n",
              "    <tr>\n",
              "      <th>59998</th>\n",
              "      <td>8</td>\n",
              "      <td>0</td>\n",
              "      <td>0</td>\n",
              "      <td>0</td>\n",
              "      <td>0</td>\n",
              "      <td>0</td>\n",
              "      <td>0</td>\n",
              "      <td>0</td>\n",
              "      <td>0</td>\n",
              "      <td>0</td>\n",
              "      <td>...</td>\n",
              "      <td>0</td>\n",
              "      <td>0</td>\n",
              "      <td>0</td>\n",
              "      <td>0</td>\n",
              "      <td>0</td>\n",
              "      <td>0</td>\n",
              "      <td>0</td>\n",
              "      <td>0</td>\n",
              "      <td>0</td>\n",
              "      <td>0</td>\n",
              "    </tr>\n",
              "    <tr>\n",
              "      <th>59999</th>\n",
              "      <td>7</td>\n",
              "      <td>0</td>\n",
              "      <td>0</td>\n",
              "      <td>0</td>\n",
              "      <td>0</td>\n",
              "      <td>0</td>\n",
              "      <td>0</td>\n",
              "      <td>0</td>\n",
              "      <td>0</td>\n",
              "      <td>0</td>\n",
              "      <td>...</td>\n",
              "      <td>0</td>\n",
              "      <td>0</td>\n",
              "      <td>0</td>\n",
              "      <td>0</td>\n",
              "      <td>0</td>\n",
              "      <td>0</td>\n",
              "      <td>0</td>\n",
              "      <td>0</td>\n",
              "      <td>0</td>\n",
              "      <td>0</td>\n",
              "    </tr>\n",
              "  </tbody>\n",
              "</table>\n",
              "<p>60000 rows × 785 columns</p>\n",
              "</div>\n",
              "      <button class=\"colab-df-convert\" onclick=\"convertToInteractive('df-6302fb39-6ea6-4b22-900f-6420919f71e3')\"\n",
              "              title=\"Convert this dataframe to an interactive table.\"\n",
              "              style=\"display:none;\">\n",
              "        \n",
              "  <svg xmlns=\"http://www.w3.org/2000/svg\" height=\"24px\"viewBox=\"0 0 24 24\"\n",
              "       width=\"24px\">\n",
              "    <path d=\"M0 0h24v24H0V0z\" fill=\"none\"/>\n",
              "    <path d=\"M18.56 5.44l.94 2.06.94-2.06 2.06-.94-2.06-.94-.94-2.06-.94 2.06-2.06.94zm-11 1L8.5 8.5l.94-2.06 2.06-.94-2.06-.94L8.5 2.5l-.94 2.06-2.06.94zm10 10l.94 2.06.94-2.06 2.06-.94-2.06-.94-.94-2.06-.94 2.06-2.06.94z\"/><path d=\"M17.41 7.96l-1.37-1.37c-.4-.4-.92-.59-1.43-.59-.52 0-1.04.2-1.43.59L10.3 9.45l-7.72 7.72c-.78.78-.78 2.05 0 2.83L4 21.41c.39.39.9.59 1.41.59.51 0 1.02-.2 1.41-.59l7.78-7.78 2.81-2.81c.8-.78.8-2.07 0-2.86zM5.41 20L4 18.59l7.72-7.72 1.47 1.35L5.41 20z\"/>\n",
              "  </svg>\n",
              "      </button>\n",
              "      \n",
              "  <style>\n",
              "    .colab-df-container {\n",
              "      display:flex;\n",
              "      flex-wrap:wrap;\n",
              "      gap: 12px;\n",
              "    }\n",
              "\n",
              "    .colab-df-convert {\n",
              "      background-color: #E8F0FE;\n",
              "      border: none;\n",
              "      border-radius: 50%;\n",
              "      cursor: pointer;\n",
              "      display: none;\n",
              "      fill: #1967D2;\n",
              "      height: 32px;\n",
              "      padding: 0 0 0 0;\n",
              "      width: 32px;\n",
              "    }\n",
              "\n",
              "    .colab-df-convert:hover {\n",
              "      background-color: #E2EBFA;\n",
              "      box-shadow: 0px 1px 2px rgba(60, 64, 67, 0.3), 0px 1px 3px 1px rgba(60, 64, 67, 0.15);\n",
              "      fill: #174EA6;\n",
              "    }\n",
              "\n",
              "    [theme=dark] .colab-df-convert {\n",
              "      background-color: #3B4455;\n",
              "      fill: #D2E3FC;\n",
              "    }\n",
              "\n",
              "    [theme=dark] .colab-df-convert:hover {\n",
              "      background-color: #434B5C;\n",
              "      box-shadow: 0px 1px 3px 1px rgba(0, 0, 0, 0.15);\n",
              "      filter: drop-shadow(0px 1px 2px rgba(0, 0, 0, 0.3));\n",
              "      fill: #FFFFFF;\n",
              "    }\n",
              "  </style>\n",
              "\n",
              "      <script>\n",
              "        const buttonEl =\n",
              "          document.querySelector('#df-6302fb39-6ea6-4b22-900f-6420919f71e3 button.colab-df-convert');\n",
              "        buttonEl.style.display =\n",
              "          google.colab.kernel.accessAllowed ? 'block' : 'none';\n",
              "\n",
              "        async function convertToInteractive(key) {\n",
              "          const element = document.querySelector('#df-6302fb39-6ea6-4b22-900f-6420919f71e3');\n",
              "          const dataTable =\n",
              "            await google.colab.kernel.invokeFunction('convertToInteractive',\n",
              "                                                     [key], {});\n",
              "          if (!dataTable) return;\n",
              "\n",
              "          const docLinkHtml = 'Like what you see? Visit the ' +\n",
              "            '<a target=\"_blank\" href=https://colab.research.google.com/notebooks/data_table.ipynb>data table notebook</a>'\n",
              "            + ' to learn more about interactive tables.';\n",
              "          element.innerHTML = '';\n",
              "          dataTable['output_type'] = 'display_data';\n",
              "          await google.colab.output.renderOutput(dataTable, element);\n",
              "          const docLink = document.createElement('div');\n",
              "          docLink.innerHTML = docLinkHtml;\n",
              "          element.appendChild(docLink);\n",
              "        }\n",
              "      </script>\n",
              "    </div>\n",
              "  </div>\n",
              "  "
            ]
          },
          "metadata": {},
          "execution_count": 5
        }
      ]
    },
    {
      "cell_type": "code",
      "source": [
        "test_data"
      ],
      "metadata": {
        "colab": {
          "base_uri": "https://localhost:8080/",
          "height": 424
        },
        "id": "sScWp2aGgRIM",
        "outputId": "9ec706f1-b29d-4c78-8799-2596f119a7bc"
      },
      "execution_count": null,
      "outputs": [
        {
          "output_type": "execute_result",
          "data": {
            "text/plain": [
              "      label  pixel1  pixel2  pixel3  pixel4  pixel5  pixel6  pixel7  pixel8  \\\n",
              "0         0       0       0       0       0       0       0       0       9   \n",
              "1         1       0       0       0       0       0       0       0       0   \n",
              "2         2       0       0       0       0       0       0      14      53   \n",
              "3         2       0       0       0       0       0       0       0       0   \n",
              "4         3       0       0       0       0       0       0       0       0   \n",
              "...     ...     ...     ...     ...     ...     ...     ...     ...     ...   \n",
              "9995      0       0       0       0       0       0       0       0       0   \n",
              "9996      6       0       0       0       0       0       0       0       0   \n",
              "9997      8       0       0       0       0       0       0       0       0   \n",
              "9998      8       0       1       3       0       0       0       0       0   \n",
              "9999      1       0       0       0       0       0       0       0     140   \n",
              "\n",
              "      pixel9  ...  pixel775  pixel776  pixel777  pixel778  pixel779  pixel780  \\\n",
              "0          8  ...       103        87        56         0         0         0   \n",
              "1          0  ...        34         0         0         0         0         0   \n",
              "2         99  ...         0         0         0         0        63        53   \n",
              "3          0  ...       137       126       140         0       133       224   \n",
              "4          0  ...         0         0         0         0         0         0   \n",
              "...      ...  ...       ...       ...       ...       ...       ...       ...   \n",
              "9995       0  ...        32        23        14        20         0         0   \n",
              "9996       0  ...         0         0         0         2        52        23   \n",
              "9997       0  ...       175       172       172       182       199       222   \n",
              "9998       0  ...         0         0         0         0         0         1   \n",
              "9999     119  ...       111        95        75        44         1         0   \n",
              "\n",
              "      pixel781  pixel782  pixel783  pixel784  \n",
              "0            0         0         0         0  \n",
              "1            0         0         0         0  \n",
              "2           31         0         0         0  \n",
              "3          222        56         0         0  \n",
              "4            0         0         0         0  \n",
              "...        ...       ...       ...       ...  \n",
              "9995         1         0         0         0  \n",
              "9996        28         0         0         0  \n",
              "9997        42         0         1         0  \n",
              "9998         0         0         0         0  \n",
              "9999         0         0         0         0  \n",
              "\n",
              "[10000 rows x 785 columns]"
            ],
            "text/html": [
              "\n",
              "  <div id=\"df-14064b79-7f8e-4f10-ad68-d10add7800d7\">\n",
              "    <div class=\"colab-df-container\">\n",
              "      <div>\n",
              "<style scoped>\n",
              "    .dataframe tbody tr th:only-of-type {\n",
              "        vertical-align: middle;\n",
              "    }\n",
              "\n",
              "    .dataframe tbody tr th {\n",
              "        vertical-align: top;\n",
              "    }\n",
              "\n",
              "    .dataframe thead th {\n",
              "        text-align: right;\n",
              "    }\n",
              "</style>\n",
              "<table border=\"1\" class=\"dataframe\">\n",
              "  <thead>\n",
              "    <tr style=\"text-align: right;\">\n",
              "      <th></th>\n",
              "      <th>label</th>\n",
              "      <th>pixel1</th>\n",
              "      <th>pixel2</th>\n",
              "      <th>pixel3</th>\n",
              "      <th>pixel4</th>\n",
              "      <th>pixel5</th>\n",
              "      <th>pixel6</th>\n",
              "      <th>pixel7</th>\n",
              "      <th>pixel8</th>\n",
              "      <th>pixel9</th>\n",
              "      <th>...</th>\n",
              "      <th>pixel775</th>\n",
              "      <th>pixel776</th>\n",
              "      <th>pixel777</th>\n",
              "      <th>pixel778</th>\n",
              "      <th>pixel779</th>\n",
              "      <th>pixel780</th>\n",
              "      <th>pixel781</th>\n",
              "      <th>pixel782</th>\n",
              "      <th>pixel783</th>\n",
              "      <th>pixel784</th>\n",
              "    </tr>\n",
              "  </thead>\n",
              "  <tbody>\n",
              "    <tr>\n",
              "      <th>0</th>\n",
              "      <td>0</td>\n",
              "      <td>0</td>\n",
              "      <td>0</td>\n",
              "      <td>0</td>\n",
              "      <td>0</td>\n",
              "      <td>0</td>\n",
              "      <td>0</td>\n",
              "      <td>0</td>\n",
              "      <td>9</td>\n",
              "      <td>8</td>\n",
              "      <td>...</td>\n",
              "      <td>103</td>\n",
              "      <td>87</td>\n",
              "      <td>56</td>\n",
              "      <td>0</td>\n",
              "      <td>0</td>\n",
              "      <td>0</td>\n",
              "      <td>0</td>\n",
              "      <td>0</td>\n",
              "      <td>0</td>\n",
              "      <td>0</td>\n",
              "    </tr>\n",
              "    <tr>\n",
              "      <th>1</th>\n",
              "      <td>1</td>\n",
              "      <td>0</td>\n",
              "      <td>0</td>\n",
              "      <td>0</td>\n",
              "      <td>0</td>\n",
              "      <td>0</td>\n",
              "      <td>0</td>\n",
              "      <td>0</td>\n",
              "      <td>0</td>\n",
              "      <td>0</td>\n",
              "      <td>...</td>\n",
              "      <td>34</td>\n",
              "      <td>0</td>\n",
              "      <td>0</td>\n",
              "      <td>0</td>\n",
              "      <td>0</td>\n",
              "      <td>0</td>\n",
              "      <td>0</td>\n",
              "      <td>0</td>\n",
              "      <td>0</td>\n",
              "      <td>0</td>\n",
              "    </tr>\n",
              "    <tr>\n",
              "      <th>2</th>\n",
              "      <td>2</td>\n",
              "      <td>0</td>\n",
              "      <td>0</td>\n",
              "      <td>0</td>\n",
              "      <td>0</td>\n",
              "      <td>0</td>\n",
              "      <td>0</td>\n",
              "      <td>14</td>\n",
              "      <td>53</td>\n",
              "      <td>99</td>\n",
              "      <td>...</td>\n",
              "      <td>0</td>\n",
              "      <td>0</td>\n",
              "      <td>0</td>\n",
              "      <td>0</td>\n",
              "      <td>63</td>\n",
              "      <td>53</td>\n",
              "      <td>31</td>\n",
              "      <td>0</td>\n",
              "      <td>0</td>\n",
              "      <td>0</td>\n",
              "    </tr>\n",
              "    <tr>\n",
              "      <th>3</th>\n",
              "      <td>2</td>\n",
              "      <td>0</td>\n",
              "      <td>0</td>\n",
              "      <td>0</td>\n",
              "      <td>0</td>\n",
              "      <td>0</td>\n",
              "      <td>0</td>\n",
              "      <td>0</td>\n",
              "      <td>0</td>\n",
              "      <td>0</td>\n",
              "      <td>...</td>\n",
              "      <td>137</td>\n",
              "      <td>126</td>\n",
              "      <td>140</td>\n",
              "      <td>0</td>\n",
              "      <td>133</td>\n",
              "      <td>224</td>\n",
              "      <td>222</td>\n",
              "      <td>56</td>\n",
              "      <td>0</td>\n",
              "      <td>0</td>\n",
              "    </tr>\n",
              "    <tr>\n",
              "      <th>4</th>\n",
              "      <td>3</td>\n",
              "      <td>0</td>\n",
              "      <td>0</td>\n",
              "      <td>0</td>\n",
              "      <td>0</td>\n",
              "      <td>0</td>\n",
              "      <td>0</td>\n",
              "      <td>0</td>\n",
              "      <td>0</td>\n",
              "      <td>0</td>\n",
              "      <td>...</td>\n",
              "      <td>0</td>\n",
              "      <td>0</td>\n",
              "      <td>0</td>\n",
              "      <td>0</td>\n",
              "      <td>0</td>\n",
              "      <td>0</td>\n",
              "      <td>0</td>\n",
              "      <td>0</td>\n",
              "      <td>0</td>\n",
              "      <td>0</td>\n",
              "    </tr>\n",
              "    <tr>\n",
              "      <th>...</th>\n",
              "      <td>...</td>\n",
              "      <td>...</td>\n",
              "      <td>...</td>\n",
              "      <td>...</td>\n",
              "      <td>...</td>\n",
              "      <td>...</td>\n",
              "      <td>...</td>\n",
              "      <td>...</td>\n",
              "      <td>...</td>\n",
              "      <td>...</td>\n",
              "      <td>...</td>\n",
              "      <td>...</td>\n",
              "      <td>...</td>\n",
              "      <td>...</td>\n",
              "      <td>...</td>\n",
              "      <td>...</td>\n",
              "      <td>...</td>\n",
              "      <td>...</td>\n",
              "      <td>...</td>\n",
              "      <td>...</td>\n",
              "      <td>...</td>\n",
              "    </tr>\n",
              "    <tr>\n",
              "      <th>9995</th>\n",
              "      <td>0</td>\n",
              "      <td>0</td>\n",
              "      <td>0</td>\n",
              "      <td>0</td>\n",
              "      <td>0</td>\n",
              "      <td>0</td>\n",
              "      <td>0</td>\n",
              "      <td>0</td>\n",
              "      <td>0</td>\n",
              "      <td>0</td>\n",
              "      <td>...</td>\n",
              "      <td>32</td>\n",
              "      <td>23</td>\n",
              "      <td>14</td>\n",
              "      <td>20</td>\n",
              "      <td>0</td>\n",
              "      <td>0</td>\n",
              "      <td>1</td>\n",
              "      <td>0</td>\n",
              "      <td>0</td>\n",
              "      <td>0</td>\n",
              "    </tr>\n",
              "    <tr>\n",
              "      <th>9996</th>\n",
              "      <td>6</td>\n",
              "      <td>0</td>\n",
              "      <td>0</td>\n",
              "      <td>0</td>\n",
              "      <td>0</td>\n",
              "      <td>0</td>\n",
              "      <td>0</td>\n",
              "      <td>0</td>\n",
              "      <td>0</td>\n",
              "      <td>0</td>\n",
              "      <td>...</td>\n",
              "      <td>0</td>\n",
              "      <td>0</td>\n",
              "      <td>0</td>\n",
              "      <td>2</td>\n",
              "      <td>52</td>\n",
              "      <td>23</td>\n",
              "      <td>28</td>\n",
              "      <td>0</td>\n",
              "      <td>0</td>\n",
              "      <td>0</td>\n",
              "    </tr>\n",
              "    <tr>\n",
              "      <th>9997</th>\n",
              "      <td>8</td>\n",
              "      <td>0</td>\n",
              "      <td>0</td>\n",
              "      <td>0</td>\n",
              "      <td>0</td>\n",
              "      <td>0</td>\n",
              "      <td>0</td>\n",
              "      <td>0</td>\n",
              "      <td>0</td>\n",
              "      <td>0</td>\n",
              "      <td>...</td>\n",
              "      <td>175</td>\n",
              "      <td>172</td>\n",
              "      <td>172</td>\n",
              "      <td>182</td>\n",
              "      <td>199</td>\n",
              "      <td>222</td>\n",
              "      <td>42</td>\n",
              "      <td>0</td>\n",
              "      <td>1</td>\n",
              "      <td>0</td>\n",
              "    </tr>\n",
              "    <tr>\n",
              "      <th>9998</th>\n",
              "      <td>8</td>\n",
              "      <td>0</td>\n",
              "      <td>1</td>\n",
              "      <td>3</td>\n",
              "      <td>0</td>\n",
              "      <td>0</td>\n",
              "      <td>0</td>\n",
              "      <td>0</td>\n",
              "      <td>0</td>\n",
              "      <td>0</td>\n",
              "      <td>...</td>\n",
              "      <td>0</td>\n",
              "      <td>0</td>\n",
              "      <td>0</td>\n",
              "      <td>0</td>\n",
              "      <td>0</td>\n",
              "      <td>1</td>\n",
              "      <td>0</td>\n",
              "      <td>0</td>\n",
              "      <td>0</td>\n",
              "      <td>0</td>\n",
              "    </tr>\n",
              "    <tr>\n",
              "      <th>9999</th>\n",
              "      <td>1</td>\n",
              "      <td>0</td>\n",
              "      <td>0</td>\n",
              "      <td>0</td>\n",
              "      <td>0</td>\n",
              "      <td>0</td>\n",
              "      <td>0</td>\n",
              "      <td>0</td>\n",
              "      <td>140</td>\n",
              "      <td>119</td>\n",
              "      <td>...</td>\n",
              "      <td>111</td>\n",
              "      <td>95</td>\n",
              "      <td>75</td>\n",
              "      <td>44</td>\n",
              "      <td>1</td>\n",
              "      <td>0</td>\n",
              "      <td>0</td>\n",
              "      <td>0</td>\n",
              "      <td>0</td>\n",
              "      <td>0</td>\n",
              "    </tr>\n",
              "  </tbody>\n",
              "</table>\n",
              "<p>10000 rows × 785 columns</p>\n",
              "</div>\n",
              "      <button class=\"colab-df-convert\" onclick=\"convertToInteractive('df-14064b79-7f8e-4f10-ad68-d10add7800d7')\"\n",
              "              title=\"Convert this dataframe to an interactive table.\"\n",
              "              style=\"display:none;\">\n",
              "        \n",
              "  <svg xmlns=\"http://www.w3.org/2000/svg\" height=\"24px\"viewBox=\"0 0 24 24\"\n",
              "       width=\"24px\">\n",
              "    <path d=\"M0 0h24v24H0V0z\" fill=\"none\"/>\n",
              "    <path d=\"M18.56 5.44l.94 2.06.94-2.06 2.06-.94-2.06-.94-.94-2.06-.94 2.06-2.06.94zm-11 1L8.5 8.5l.94-2.06 2.06-.94-2.06-.94L8.5 2.5l-.94 2.06-2.06.94zm10 10l.94 2.06.94-2.06 2.06-.94-2.06-.94-.94-2.06-.94 2.06-2.06.94z\"/><path d=\"M17.41 7.96l-1.37-1.37c-.4-.4-.92-.59-1.43-.59-.52 0-1.04.2-1.43.59L10.3 9.45l-7.72 7.72c-.78.78-.78 2.05 0 2.83L4 21.41c.39.39.9.59 1.41.59.51 0 1.02-.2 1.41-.59l7.78-7.78 2.81-2.81c.8-.78.8-2.07 0-2.86zM5.41 20L4 18.59l7.72-7.72 1.47 1.35L5.41 20z\"/>\n",
              "  </svg>\n",
              "      </button>\n",
              "      \n",
              "  <style>\n",
              "    .colab-df-container {\n",
              "      display:flex;\n",
              "      flex-wrap:wrap;\n",
              "      gap: 12px;\n",
              "    }\n",
              "\n",
              "    .colab-df-convert {\n",
              "      background-color: #E8F0FE;\n",
              "      border: none;\n",
              "      border-radius: 50%;\n",
              "      cursor: pointer;\n",
              "      display: none;\n",
              "      fill: #1967D2;\n",
              "      height: 32px;\n",
              "      padding: 0 0 0 0;\n",
              "      width: 32px;\n",
              "    }\n",
              "\n",
              "    .colab-df-convert:hover {\n",
              "      background-color: #E2EBFA;\n",
              "      box-shadow: 0px 1px 2px rgba(60, 64, 67, 0.3), 0px 1px 3px 1px rgba(60, 64, 67, 0.15);\n",
              "      fill: #174EA6;\n",
              "    }\n",
              "\n",
              "    [theme=dark] .colab-df-convert {\n",
              "      background-color: #3B4455;\n",
              "      fill: #D2E3FC;\n",
              "    }\n",
              "\n",
              "    [theme=dark] .colab-df-convert:hover {\n",
              "      background-color: #434B5C;\n",
              "      box-shadow: 0px 1px 3px 1px rgba(0, 0, 0, 0.15);\n",
              "      filter: drop-shadow(0px 1px 2px rgba(0, 0, 0, 0.3));\n",
              "      fill: #FFFFFF;\n",
              "    }\n",
              "  </style>\n",
              "\n",
              "      <script>\n",
              "        const buttonEl =\n",
              "          document.querySelector('#df-14064b79-7f8e-4f10-ad68-d10add7800d7 button.colab-df-convert');\n",
              "        buttonEl.style.display =\n",
              "          google.colab.kernel.accessAllowed ? 'block' : 'none';\n",
              "\n",
              "        async function convertToInteractive(key) {\n",
              "          const element = document.querySelector('#df-14064b79-7f8e-4f10-ad68-d10add7800d7');\n",
              "          const dataTable =\n",
              "            await google.colab.kernel.invokeFunction('convertToInteractive',\n",
              "                                                     [key], {});\n",
              "          if (!dataTable) return;\n",
              "\n",
              "          const docLinkHtml = 'Like what you see? Visit the ' +\n",
              "            '<a target=\"_blank\" href=https://colab.research.google.com/notebooks/data_table.ipynb>data table notebook</a>'\n",
              "            + ' to learn more about interactive tables.';\n",
              "          element.innerHTML = '';\n",
              "          dataTable['output_type'] = 'display_data';\n",
              "          await google.colab.output.renderOutput(dataTable, element);\n",
              "          const docLink = document.createElement('div');\n",
              "          docLink.innerHTML = docLinkHtml;\n",
              "          element.appendChild(docLink);\n",
              "        }\n",
              "      </script>\n",
              "    </div>\n",
              "  </div>\n",
              "  "
            ]
          },
          "metadata": {},
          "execution_count": 6
        }
      ]
    },
    {
      "cell_type": "code",
      "source": [
        "num_classes = 10\n",
        "im_rows = 28\n",
        "im_columns = 28"
      ],
      "metadata": {
        "id": "3ueNaAE9mHWl"
      },
      "execution_count": null,
      "outputs": []
    },
    {
      "cell_type": "code",
      "source": [
        "x_train, y_train = preprocessing(train_data, 10, 28, 28)"
      ],
      "metadata": {
        "id": "wDo-0vwTgitO"
      },
      "execution_count": null,
      "outputs": []
    },
    {
      "cell_type": "code",
      "source": [
        "def MakeModel():\n",
        "  model = Sequential()\n",
        "  model.add( Conv2D(filters= 16, kernel_size=(4,4), padding='Same',activation='relu', input_shape=(28,28,1)) )\n",
        "  model.add(BatchNormalization())\n",
        "  \n",
        "  model.add( Conv2D(filters= 16, kernel_size=(3,3), padding='Same',activation='relu') )\n",
        "  model.add(BatchNormalization())\n",
        "  \n",
        "  model.add( MaxPool2D(pool_size=(2,2)) )\n",
        "  model.add(Dropout(0.4))\n",
        "\n",
        "  model.add( Conv2D(filters=32, kernel_size=(3,3), padding='Same',activation='relu') )\n",
        "  model.add(BatchNormalization())\n",
        "  model.add( Conv2D(filters=64, kernel_size=(2,2), padding='Same',activation='relu') )\n",
        "  model.add(BatchNormalization())\n",
        "  model.add( MaxPool2D(pool_size=(2,2)) )\n",
        "  model.add(Dropout(0.4))\n",
        "  \n",
        "  model.add( Conv2D(filters=128, kernel_size=(3,3), padding='Same',activation='relu') )\n",
        "  model.add(BatchNormalization())\n",
        "  model.add( Conv2D(filters=256, kernel_size=(2,2), padding='Same',activation='relu') )\n",
        "  model.add(BatchNormalization())\n",
        "  model.add( MaxPool2D(pool_size=(2,2)) )\n",
        "  model.add(Dropout(0.4))\n",
        "  \n",
        "  model.add(Flatten())\n",
        "  \n",
        "  model.add(Dense(256,activation='relu'))\n",
        "  model.add(BatchNormalization())\n",
        "  model.add(Dense(num_classes,activation='softmax'))\n",
        "  \n",
        "  model.summary()\n",
        "  return model"
      ],
      "metadata": {
        "id": "JD0gyji4loOI"
      },
      "execution_count": null,
      "outputs": []
    },
    {
      "cell_type": "code",
      "source": [
        "model = MakeModel()"
      ],
      "metadata": {
        "colab": {
          "base_uri": "https://localhost:8080/"
        },
        "id": "AKqPViOFmTh9",
        "outputId": "4fbd05c4-b306-448c-f291-0816e59a3616"
      },
      "execution_count": null,
      "outputs": [
        {
          "output_type": "stream",
          "name": "stdout",
          "text": [
            "Model: \"sequential\"\n",
            "_________________________________________________________________\n",
            "Layer (type)                 Output Shape              Param #   \n",
            "=================================================================\n",
            "conv2d (Conv2D)              (None, 28, 28, 16)        272       \n",
            "_________________________________________________________________\n",
            "module_wrapper (ModuleWrappe (None, 28, 28, 16)        64        \n",
            "_________________________________________________________________\n",
            "conv2d_1 (Conv2D)            (None, 28, 28, 16)        2320      \n",
            "_________________________________________________________________\n",
            "module_wrapper_1 (ModuleWrap (None, 28, 28, 16)        64        \n",
            "_________________________________________________________________\n",
            "module_wrapper_2 (ModuleWrap (None, 14, 14, 16)        0         \n",
            "_________________________________________________________________\n",
            "dropout (Dropout)            (None, 14, 14, 16)        0         \n",
            "_________________________________________________________________\n",
            "conv2d_2 (Conv2D)            (None, 14, 14, 32)        4640      \n",
            "_________________________________________________________________\n",
            "module_wrapper_3 (ModuleWrap (None, 14, 14, 32)        128       \n",
            "_________________________________________________________________\n",
            "conv2d_3 (Conv2D)            (None, 14, 14, 64)        8256      \n",
            "_________________________________________________________________\n",
            "module_wrapper_4 (ModuleWrap (None, 14, 14, 64)        256       \n",
            "_________________________________________________________________\n",
            "module_wrapper_5 (ModuleWrap (None, 7, 7, 64)          0         \n",
            "_________________________________________________________________\n",
            "dropout_1 (Dropout)          (None, 7, 7, 64)          0         \n",
            "_________________________________________________________________\n",
            "conv2d_4 (Conv2D)            (None, 7, 7, 128)         73856     \n",
            "_________________________________________________________________\n",
            "module_wrapper_6 (ModuleWrap (None, 7, 7, 128)         512       \n",
            "_________________________________________________________________\n",
            "conv2d_5 (Conv2D)            (None, 7, 7, 256)         131328    \n",
            "_________________________________________________________________\n",
            "module_wrapper_7 (ModuleWrap (None, 7, 7, 256)         1024      \n",
            "_________________________________________________________________\n",
            "module_wrapper_8 (ModuleWrap (None, 3, 3, 256)         0         \n",
            "_________________________________________________________________\n",
            "dropout_2 (Dropout)          (None, 3, 3, 256)         0         \n",
            "_________________________________________________________________\n",
            "flatten (Flatten)            (None, 2304)              0         \n",
            "_________________________________________________________________\n",
            "dense (Dense)                (None, 256)               590080    \n",
            "_________________________________________________________________\n",
            "module_wrapper_9 (ModuleWrap (None, 256)               1024      \n",
            "_________________________________________________________________\n",
            "dense_1 (Dense)              (None, 10)                2570      \n",
            "=================================================================\n",
            "Total params: 816,394\n",
            "Trainable params: 814,858\n",
            "Non-trainable params: 1,536\n",
            "_________________________________________________________________\n"
          ]
        }
      ]
    },
    {
      "cell_type": "code",
      "source": [
        "visualkeras.layered_view(model, to_file='output.png', legend = True)"
      ],
      "metadata": {
        "colab": {
          "base_uri": "https://localhost:8080/",
          "height": 203
        },
        "id": "YUAyD-cBoOjl",
        "outputId": "24cc0aea-82f0-41b8-a220-21eb116c06ac"
      },
      "execution_count": null,
      "outputs": [
        {
          "output_type": "execute_result",
          "data": {
            "text/plain": [
              "<PIL.Image.Image image mode=RGBA size=936x186 at 0x7FED0D908F50>"
            ],
            "image/png": "[encoded data removed]"
          },
          "metadata": {},
          "execution_count": 31
        }
      ]
    },
    {
      "cell_type": "code",
      "source": [
        "import keras_sequential_ascii\n",
        "from keras_sequential_ascii import keras2ascii\n",
        "keras2ascii(model)"
      ],
      "metadata": {
        "colab": {
          "base_uri": "https://localhost:8080/"
        },
        "id": "PZ-PxWh-pUIG",
        "outputId": "41b81227-5223-4b72-ec04-fff9a6dc4c95"
      },
      "execution_count": null,
      "outputs": [
        {
          "output_type": "stream",
          "name": "stdout",
          "text": [
            "           OPERATION           DATA DIMENSIONS   WEIGHTS(N)   WEIGHTS(%)\n",
            "\n",
            "               Input   #####     28   28    1\n",
            "              Conv2D    \\|/  -------------------       272     0.0%\n",
            "                relu   #####     28   28   16\n",
            "       ModuleWrapper   ????? -------------------        64     0.0%\n",
            "                       #####     28   28   16\n",
            "              Conv2D    \\|/  -------------------      2320     0.3%\n",
            "                relu   #####     28   28   16\n",
            "       ModuleWrapper   ????? -------------------        64     0.0%\n",
            "                       #####     28   28   16\n",
            "       ModuleWrapper   ????? -------------------         0     0.0%\n",
            "                       #####     14   14   16\n",
            "             Dropout    | || -------------------         0     0.0%\n",
            "                       #####     14   14   16\n",
            "              Conv2D    \\|/  -------------------      4640     0.6%\n",
            "                relu   #####     14   14   32\n",
            "       ModuleWrapper   ????? -------------------       128     0.0%\n",
            "                       #####     14   14   32\n",
            "              Conv2D    \\|/  -------------------      8256     1.0%\n",
            "                relu   #####     14   14   64\n",
            "       ModuleWrapper   ????? -------------------       256     0.0%\n",
            "                       #####     14   14   64\n",
            "       ModuleWrapper   ????? -------------------         0     0.0%\n",
            "                       #####      7    7   64\n",
            "             Dropout    | || -------------------         0     0.0%\n",
            "                       #####      7    7   64\n",
            "              Conv2D    \\|/  -------------------     73856     9.0%\n",
            "                relu   #####      7    7  128\n",
            "       ModuleWrapper   ????? -------------------       512     0.1%\n",
            "                       #####      7    7  128\n",
            "              Conv2D    \\|/  -------------------    131328    16.1%\n",
            "                relu   #####      7    7  256\n",
            "       ModuleWrapper   ????? -------------------      1024     0.1%\n",
            "                       #####      7    7  256\n",
            "       ModuleWrapper   ????? -------------------         0     0.0%\n",
            "                       #####      3    3  256\n",
            "             Dropout    | || -------------------         0     0.0%\n",
            "                       #####      3    3  256\n",
            "             Flatten   ||||| -------------------         0     0.0%\n",
            "                       #####        2304\n",
            "               Dense   XXXXX -------------------    590080    72.3%\n",
            "                relu   #####         256\n",
            "       ModuleWrapper   ????? -------------------      1024     0.1%\n",
            "                       #####         256\n",
            "               Dense   XXXXX -------------------      2570     0.3%\n",
            "             softmax   #####          10\n"
          ]
        }
      ]
    },
    {
      "cell_type": "code",
      "source": [
        "model.compile(optimizer='adam', loss='categorical_crossentropy', metrics=['accuracy',F1_Score])"
      ],
      "metadata": {
        "id": "uEN3Ma59mXvr"
      },
      "execution_count": null,
      "outputs": []
    },
    {
      "cell_type": "code",
      "source": [
        "history=model.fit(x_train, y_train, batch_size=64, epochs=50, validation_split=0.25)"
      ],
      "metadata": {
        "colab": {
          "base_uri": "https://localhost:8080/"
        },
        "id": "HotnzbbgnvfS",
        "outputId": "c80a0cef-1683-48ce-d617-82f15ef523a9"
      },
      "execution_count": null,
      "outputs": [
        {
          "output_type": "stream",
          "name": "stdout",
          "text": [
            "Epoch 1/50\n",
            "704/704 [==============================] - 26s 10ms/step - loss: 0.5801 - accuracy: 0.7890 - F1_Score: 0.7871 - val_loss: 0.4718 - val_accuracy: 0.8302 - val_F1_Score: 0.8307\n",
            "Epoch 2/50\n",
            "704/704 [==============================] - 7s 9ms/step - loss: 0.3768 - accuracy: 0.8603 - F1_Score: 0.8603 - val_loss: 0.3262 - val_accuracy: 0.8782 - val_F1_Score: 0.8792\n",
            "Epoch 3/50\n",
            "704/704 [==============================] - 6s 9ms/step - loss: 0.3242 - accuracy: 0.8787 - F1_Score: 0.8798 - val_loss: 0.3026 - val_accuracy: 0.8905 - val_F1_Score: 0.8918\n",
            "Epoch 4/50\n",
            "704/704 [==============================] - 6s 9ms/step - loss: 0.2945 - accuracy: 0.8888 - F1_Score: 0.8900 - val_loss: 0.3253 - val_accuracy: 0.8807 - val_F1_Score: 0.8818\n",
            "Epoch 5/50\n",
            "704/704 [==============================] - 7s 9ms/step - loss: 0.2761 - accuracy: 0.8982 - F1_Score: 0.8973 - val_loss: 0.2619 - val_accuracy: 0.9023 - val_F1_Score: 0.9042\n",
            "Epoch 6/50\n",
            "704/704 [==============================] - 7s 9ms/step - loss: 0.2605 - accuracy: 0.9039 - F1_Score: 0.9036 - val_loss: 0.2625 - val_accuracy: 0.9039 - val_F1_Score: 0.9041\n",
            "Epoch 7/50\n",
            "704/704 [==============================] - 7s 9ms/step - loss: 0.2496 - accuracy: 0.9071 - F1_Score: 0.9072 - val_loss: 0.2289 - val_accuracy: 0.9189 - val_F1_Score: 0.9203\n",
            "Epoch 8/50\n",
            "704/704 [==============================] - 7s 9ms/step - loss: 0.2360 - accuracy: 0.9115 - F1_Score: 0.9117 - val_loss: 0.2566 - val_accuracy: 0.9047 - val_F1_Score: 0.9059\n",
            "Epoch 9/50\n",
            "704/704 [==============================] - 7s 9ms/step - loss: 0.2247 - accuracy: 0.9158 - F1_Score: 0.9160 - val_loss: 0.2787 - val_accuracy: 0.8991 - val_F1_Score: 0.9007\n",
            "Epoch 10/50\n",
            "704/704 [==============================] - 7s 9ms/step - loss: 0.2157 - accuracy: 0.9193 - F1_Score: 0.9191 - val_loss: 0.2450 - val_accuracy: 0.9091 - val_F1_Score: 0.9099\n",
            "Epoch 11/50\n",
            "704/704 [==============================] - 6s 9ms/step - loss: 0.2309 - accuracy: 0.9132 - F1_Score: 0.9139 - val_loss: 0.2270 - val_accuracy: 0.9212 - val_F1_Score: 0.9218\n",
            "Epoch 12/50\n",
            "704/704 [==============================] - 7s 10ms/step - loss: 0.2034 - accuracy: 0.9250 - F1_Score: 0.9249 - val_loss: 0.2100 - val_accuracy: 0.9265 - val_F1_Score: 0.9278\n",
            "Epoch 13/50\n",
            "704/704 [==============================] - 6s 9ms/step - loss: 0.1951 - accuracy: 0.9274 - F1_Score: 0.9274 - val_loss: 0.2022 - val_accuracy: 0.9303 - val_F1_Score: 0.9311\n",
            "Epoch 14/50\n",
            "704/704 [==============================] - 7s 10ms/step - loss: 0.1893 - accuracy: 0.9291 - F1_Score: 0.9290 - val_loss: 0.2214 - val_accuracy: 0.9197 - val_F1_Score: 0.9207\n",
            "Epoch 15/50\n",
            "704/704 [==============================] - 6s 9ms/step - loss: 0.1797 - accuracy: 0.9319 - F1_Score: 0.9323 - val_loss: 0.2076 - val_accuracy: 0.9264 - val_F1_Score: 0.9269\n",
            "Epoch 16/50\n",
            "704/704 [==============================] - 6s 9ms/step - loss: 0.1773 - accuracy: 0.9334 - F1_Score: 0.9336 - val_loss: 0.1987 - val_accuracy: 0.9297 - val_F1_Score: 0.9304\n",
            "Epoch 17/50\n",
            "704/704 [==============================] - 6s 9ms/step - loss: 0.1727 - accuracy: 0.9355 - F1_Score: 0.9359 - val_loss: 0.2082 - val_accuracy: 0.9301 - val_F1_Score: 0.9312\n",
            "Epoch 18/50\n",
            "704/704 [==============================] - 6s 9ms/step - loss: 0.1661 - accuracy: 0.9379 - F1_Score: 0.9374 - val_loss: 0.2276 - val_accuracy: 0.9231 - val_F1_Score: 0.9239\n",
            "Epoch 19/50\n",
            "704/704 [==============================] - 6s 9ms/step - loss: 0.1617 - accuracy: 0.9398 - F1_Score: 0.9399 - val_loss: 0.2004 - val_accuracy: 0.9321 - val_F1_Score: 0.9328\n",
            "Epoch 20/50\n",
            "704/704 [==============================] - 6s 9ms/step - loss: 0.1598 - accuracy: 0.9396 - F1_Score: 0.9400 - val_loss: 0.2095 - val_accuracy: 0.9287 - val_F1_Score: 0.9297\n",
            "Epoch 21/50\n",
            "704/704 [==============================] - 6s 9ms/step - loss: 0.1558 - accuracy: 0.9418 - F1_Score: 0.9411 - val_loss: 0.2086 - val_accuracy: 0.9294 - val_F1_Score: 0.9308\n",
            "Epoch 22/50\n",
            "704/704 [==============================] - 6s 9ms/step - loss: 0.1495 - accuracy: 0.9431 - F1_Score: 0.9435 - val_loss: 0.2062 - val_accuracy: 0.9312 - val_F1_Score: 0.9319\n",
            "Epoch 23/50\n",
            "704/704 [==============================] - 6s 9ms/step - loss: 0.1457 - accuracy: 0.9455 - F1_Score: 0.9455 - val_loss: 0.2030 - val_accuracy: 0.9302 - val_F1_Score: 0.9310\n",
            "Epoch 24/50\n",
            "704/704 [==============================] - 6s 9ms/step - loss: 0.1460 - accuracy: 0.9446 - F1_Score: 0.9445 - val_loss: 0.2079 - val_accuracy: 0.9297 - val_F1_Score: 0.9306\n",
            "Epoch 25/50\n",
            "704/704 [==============================] - 6s 9ms/step - loss: 0.1377 - accuracy: 0.9484 - F1_Score: 0.9486 - val_loss: 0.2139 - val_accuracy: 0.9295 - val_F1_Score: 0.9304\n",
            "Epoch 26/50\n",
            "704/704 [==============================] - 6s 9ms/step - loss: 0.1346 - accuracy: 0.9494 - F1_Score: 0.9493 - val_loss: 0.2176 - val_accuracy: 0.9271 - val_F1_Score: 0.9272\n",
            "Epoch 27/50\n",
            "704/704 [==============================] - 6s 9ms/step - loss: 0.1312 - accuracy: 0.9501 - F1_Score: 0.9499 - val_loss: 0.2194 - val_accuracy: 0.9298 - val_F1_Score: 0.9307\n",
            "Epoch 28/50\n",
            "704/704 [==============================] - 6s 9ms/step - loss: 0.1265 - accuracy: 0.9531 - F1_Score: 0.9527 - val_loss: 0.2087 - val_accuracy: 0.9334 - val_F1_Score: 0.9341\n",
            "Epoch 29/50\n",
            "704/704 [==============================] - 6s 9ms/step - loss: 0.1243 - accuracy: 0.9530 - F1_Score: 0.9534 - val_loss: 0.2018 - val_accuracy: 0.9357 - val_F1_Score: 0.9363\n",
            "Epoch 30/50\n",
            "704/704 [==============================] - 7s 10ms/step - loss: 0.1190 - accuracy: 0.9557 - F1_Score: 0.9561 - val_loss: 0.2261 - val_accuracy: 0.9278 - val_F1_Score: 0.9280\n",
            "Epoch 31/50\n",
            "704/704 [==============================] - 7s 10ms/step - loss: 0.1203 - accuracy: 0.9549 - F1_Score: 0.9549 - val_loss: 0.2117 - val_accuracy: 0.9324 - val_F1_Score: 0.9335\n",
            "Epoch 32/50\n",
            "704/704 [==============================] - 6s 9ms/step - loss: 0.1156 - accuracy: 0.9563 - F1_Score: 0.9560 - val_loss: 0.2217 - val_accuracy: 0.9313 - val_F1_Score: 0.9323\n",
            "Epoch 33/50\n",
            "704/704 [==============================] - 6s 9ms/step - loss: 0.1170 - accuracy: 0.9554 - F1_Score: 0.9554 - val_loss: 0.2071 - val_accuracy: 0.9343 - val_F1_Score: 0.9352\n",
            "Epoch 34/50\n",
            "704/704 [==============================] - 6s 9ms/step - loss: 0.1157 - accuracy: 0.9563 - F1_Score: 0.9565 - val_loss: 0.2116 - val_accuracy: 0.9340 - val_F1_Score: 0.9352\n",
            "Epoch 35/50\n",
            "704/704 [==============================] - 6s 9ms/step - loss: 0.1067 - accuracy: 0.9597 - F1_Score: 0.9594 - val_loss: 0.2080 - val_accuracy: 0.9361 - val_F1_Score: 0.9366\n",
            "Epoch 36/50\n",
            "704/704 [==============================] - 7s 10ms/step - loss: 0.1090 - accuracy: 0.9581 - F1_Score: 0.9583 - val_loss: 0.2134 - val_accuracy: 0.9354 - val_F1_Score: 0.9361\n",
            "Epoch 37/50\n",
            "704/704 [==============================] - 6s 9ms/step - loss: 0.1052 - accuracy: 0.9604 - F1_Score: 0.9605 - val_loss: 0.2155 - val_accuracy: 0.9337 - val_F1_Score: 0.9343\n",
            "Epoch 38/50\n",
            "704/704 [==============================] - 6s 9ms/step - loss: 0.1018 - accuracy: 0.9621 - F1_Score: 0.9621 - val_loss: 0.2183 - val_accuracy: 0.9347 - val_F1_Score: 0.9355\n",
            "Epoch 39/50\n",
            "704/704 [==============================] - 6s 9ms/step - loss: 0.1020 - accuracy: 0.9608 - F1_Score: 0.9607 - val_loss: 0.2322 - val_accuracy: 0.9311 - val_F1_Score: 0.9319\n",
            "Epoch 40/50\n",
            "704/704 [==============================] - 6s 9ms/step - loss: 0.1019 - accuracy: 0.9616 - F1_Score: 0.9613 - val_loss: 0.2145 - val_accuracy: 0.9352 - val_F1_Score: 0.9364\n",
            "Epoch 41/50\n",
            "704/704 [==============================] - 6s 9ms/step - loss: 0.0995 - accuracy: 0.9628 - F1_Score: 0.9628 - val_loss: 0.2182 - val_accuracy: 0.9363 - val_F1_Score: 0.9369\n",
            "Epoch 42/50\n",
            "704/704 [==============================] - 7s 10ms/step - loss: 0.0948 - accuracy: 0.9638 - F1_Score: 0.9641 - val_loss: 0.2235 - val_accuracy: 0.9356 - val_F1_Score: 0.9360\n",
            "Epoch 43/50\n",
            "704/704 [==============================] - 6s 9ms/step - loss: 0.0949 - accuracy: 0.9643 - F1_Score: 0.9643 - val_loss: 0.2290 - val_accuracy: 0.9341 - val_F1_Score: 0.9353\n",
            "Epoch 44/50\n",
            "704/704 [==============================] - 6s 9ms/step - loss: 0.0902 - accuracy: 0.9654 - F1_Score: 0.9654 - val_loss: 0.2357 - val_accuracy: 0.9329 - val_F1_Score: 0.9335\n",
            "Epoch 45/50\n",
            "704/704 [==============================] - 6s 9ms/step - loss: 0.0899 - accuracy: 0.9668 - F1_Score: 0.9667 - val_loss: 0.2279 - val_accuracy: 0.9324 - val_F1_Score: 0.9327\n",
            "Epoch 46/50\n",
            "704/704 [==============================] - 6s 9ms/step - loss: 0.0915 - accuracy: 0.9646 - F1_Score: 0.9648 - val_loss: 0.2219 - val_accuracy: 0.9351 - val_F1_Score: 0.9358\n",
            "Epoch 47/50\n",
            "704/704 [==============================] - 6s 9ms/step - loss: 0.0861 - accuracy: 0.9672 - F1_Score: 0.9674 - val_loss: 0.2194 - val_accuracy: 0.9358 - val_F1_Score: 0.9368\n",
            "Epoch 48/50\n",
            "704/704 [==============================] - 6s 9ms/step - loss: 0.0852 - accuracy: 0.9686 - F1_Score: 0.9688 - val_loss: 0.2264 - val_accuracy: 0.9337 - val_F1_Score: 0.9347\n",
            "Epoch 49/50\n",
            "704/704 [==============================] - 6s 9ms/step - loss: 0.0829 - accuracy: 0.9684 - F1_Score: 0.9686 - val_loss: 0.2360 - val_accuracy: 0.9340 - val_F1_Score: 0.9346\n",
            "Epoch 50/50\n",
            "704/704 [==============================] - 6s 9ms/step - loss: 0.0824 - accuracy: 0.9684 - F1_Score: 0.9684 - val_loss: 0.2347 - val_accuracy: 0.9341 - val_F1_Score: 0.9350\n"
          ]
        }
      ]
    },
    {
      "cell_type": "code",
      "source": [
        "model.save('/content/drive/MyDrive/Neural Networks & Deep Learning/FashionMNIST/\"mod1_0.h5\"')"
      ],
      "metadata": {
        "colab": {
          "base_uri": "https://localhost:8080/"
        },
        "id": "zflKX9Sroiqn",
        "outputId": "37a85968-f07e-44d7-dbf1-041894afa893"
      },
      "execution_count": null,
      "outputs": [
        {
          "output_type": "stream",
          "name": "stdout",
          "text": [
            "INFO:tensorflow:Assets written to: /content/drive/MyDrive/Neural Networks & Deep Learning/FashionMNIST/\"mod1_0.h5\"/assets\n"
          ]
        }
      ]
    },
    {
      "cell_type": "code",
      "source": [
        "plt.style.use('classic')\n",
        "plt.plot(history.history['loss'],'red')\n",
        "plt.plot(history.history['val_loss'],'blue')\n",
        "plt.title('Loss vs. Epoch')\n",
        "plt.xlabel('Epoch')\n",
        "plt.ylabel('Loss')\n",
        "plt.legend(['loss', 'val_loss'])\n",
        "plt.figure(figsize=(5,3)) "
      ],
      "metadata": {
        "id": "cOr8BeZcxeGt",
        "colab": {
          "base_uri": "https://localhost:8080/",
          "height": 505
        },
        "outputId": "348bd4e0-6449-49bf-fa15-1f457b412cba"
      },
      "execution_count": null,
      "outputs": [
        {
          "output_type": "execute_result",
          "data": {
            "text/plain": [
              "<Figure size 400x240 with 0 Axes>"
            ]
          },
          "metadata": {},
          "execution_count": 15
        },
        {
          "output_type": "display_data",
          "data": {
            "text/plain": [
              "<Figure size 640x480 with 1 Axes>"
            ],
            "image/png": "[encoded data removed]"
          },
          "metadata": {}
        },
        {
          "output_type": "display_data",
          "data": {
            "text/plain": [
              "<Figure size 400x240 with 0 Axes>"
            ]
          },
          "metadata": {}
        }
      ]
    },
    {
      "cell_type": "code",
      "source": [
        "plt.style.use('classic')\n",
        "plt.plot(history.history['accuracy'],'red')\n",
        "plt.plot(history.history['val_accuracy'],'blue')\n",
        "plt.title('Accuracy vs. Epoch')\n",
        "plt.xlabel('Epoch')\n",
        "plt.ylabel('Accuracy')\n",
        "plt.legend(['accuracy', 'val_accuracy'], loc='lower right')\n",
        "\n",
        "plt.figure(figsize=(5,3)) "
      ],
      "metadata": {
        "colab": {
          "base_uri": "https://localhost:8080/",
          "height": 505
        },
        "id": "wacnchnuzf4d",
        "outputId": "c18a1dae-414b-42a9-b58d-f063ef654d15"
      },
      "execution_count": null,
      "outputs": [
        {
          "output_type": "execute_result",
          "data": {
            "text/plain": [
              "<Figure size 400x240 with 0 Axes>"
            ]
          },
          "metadata": {},
          "execution_count": 16
        },
        {
          "output_type": "display_data",
          "data": {
            "text/plain": [
              "<Figure size 640x480 with 1 Axes>"
            ],
            "image/png": "[encoded data removed]"
          },
          "metadata": {}
        },
        {
          "output_type": "display_data",
          "data": {
            "text/plain": [
              "<Figure size 400x240 with 0 Axes>"
            ]
          },
          "metadata": {}
        }
      ]
    },
    {
      "cell_type": "code",
      "source": [
        "plt.style.use('classic')\n",
        "plt.plot(history.history['F1_Score'],'red')\n",
        "plt.plot(history.history['val_F1_Score'],'blue')\n",
        "plt.title('F1 score vs. Epoch')\n",
        "plt.xlabel('Epoch')\n",
        "plt.ylabel('F1 score')\n",
        "plt.legend(['F1_Score', 'val_F1_Score'], loc = 'lower right')\n",
        "plt.figure(figsize=(5,3)) "
      ],
      "metadata": {
        "colab": {
          "base_uri": "https://localhost:8080/",
          "height": 505
        },
        "id": "60B2DR3sziYL",
        "outputId": "a6be9f41-d64c-436b-9af4-b2848272bb53"
      },
      "execution_count": null,
      "outputs": [
        {
          "output_type": "execute_result",
          "data": {
            "text/plain": [
              "<Figure size 400x240 with 0 Axes>"
            ]
          },
          "metadata": {},
          "execution_count": 17
        },
        {
          "output_type": "display_data",
          "data": {
            "text/plain": [
              "<Figure size 640x480 with 1 Axes>"
            ],
            "image/png": "[encoded data removed]"
          },
          "metadata": {}
        },
        {
          "output_type": "display_data",
          "data": {
            "text/plain": [
              "<Figure size 400x240 with 0 Axes>"
            ]
          },
          "metadata": {}
        }
      ]
    },
    {
      "cell_type": "code",
      "source": [
        "x_test, y_test = preprocessing(test_data, 10, 28, 28)"
      ],
      "metadata": {
        "id": "LH2WvbCOzzWp"
      },
      "execution_count": null,
      "outputs": []
    },
    {
      "cell_type": "code",
      "source": [
        "score = model.evaluate(x_test, y_test, verbose=0)\n",
        "print('Test loss:', score[0])\n",
        "print('Test accuracy:', score[1])"
      ],
      "metadata": {
        "colab": {
          "base_uri": "https://localhost:8080/"
        },
        "id": "NwFgGM3izrEL",
        "outputId": "a4fad834-1537-484a-9743-2a1e8486fb50"
      },
      "execution_count": null,
      "outputs": [
        {
          "output_type": "stream",
          "name": "stdout",
          "text": [
            "Test loss: 0.2256508618593216\n",
            "Test accuracy: 0.9376000165939331\n"
          ]
        }
      ]
    },
    {
      "cell_type": "code",
      "source": [
        "#get the predictions for the test data\n",
        "predicted_classes = model.predict_classes(x_test)\n",
        "#get the indices to be plotted\n",
        "y_true = np.array(test_data.iloc[:, 0])"
      ],
      "metadata": {
        "colab": {
          "base_uri": "https://localhost:8080/"
        },
        "id": "vE9BFMtyzxJ8",
        "outputId": "574b4ab4-4c30-49ed-fc70-3293629b324a"
      },
      "execution_count": null,
      "outputs": [
        {
          "output_type": "stream",
          "name": "stderr",
          "text": [
            "/usr/local/lib/python3.7/dist-packages/tensorflow/python/keras/engine/sequential.py:454: UserWarning: `model.predict_classes()` is deprecated and will be removed after 2021-01-01. Please use instead:* `np.argmax(model.predict(x), axis=-1)`,   if your model does multi-class classification   (e.g. if it uses a `softmax` last-layer activation).* `(model.predict(x) > 0.5).astype(\"int32\")`,   if your model does binary classification   (e.g. if it uses a `sigmoid` last-layer activation).\n",
            "  warnings.warn('`model.predict_classes()` is deprecated and '\n"
          ]
        }
      ]
    },
    {
      "cell_type": "code",
      "source": [
        "accurate_pred = np.nonzero(predicted_classes == y_true)[0]\n",
        "non_accurate_pred = np.nonzero(predicted_classes != y_true)[0]"
      ],
      "metadata": {
        "id": "eMErZcsWz86r"
      },
      "execution_count": null,
      "outputs": []
    },
    {
      "cell_type": "code",
      "source": [
        "print(classification_report(predicted_classes, y_true))"
      ],
      "metadata": {
        "colab": {
          "base_uri": "https://localhost:8080/"
        },
        "id": "G9YjTW5W0LLc",
        "outputId": "9dcd0cee-ac12-49b3-c395-4fd311df6b3c"
      },
      "execution_count": null,
      "outputs": [
        {
          "output_type": "stream",
          "name": "stdout",
          "text": [
            "              precision    recall  f1-score   support\n",
            "\n",
            "           0       0.90      0.88      0.89      1025\n",
            "           1       0.99      0.99      0.99      1005\n",
            "           2       0.86      0.95      0.90       911\n",
            "           3       0.94      0.96      0.95       977\n",
            "           4       0.93      0.89      0.91      1047\n",
            "           5       0.98      1.00      0.99       986\n",
            "           6       0.83      0.79      0.81      1044\n",
            "           7       0.97      0.97      0.97      1000\n",
            "           8       0.99      0.99      0.99       991\n",
            "           9       0.98      0.97      0.98      1014\n",
            "\n",
            "    accuracy                           0.94     10000\n",
            "   macro avg       0.94      0.94      0.94     10000\n",
            "weighted avg       0.94      0.94      0.94     10000\n",
            "\n"
          ]
        }
      ]
    },
    {
      "cell_type": "code",
      "source": [
        "labels = {0 : \"T-shirt/top\", \n",
        "          1: \"Trouser\", \n",
        "          2: \"Pullover\", \n",
        "          3: \"Dress\", \n",
        "          4: \"Coat\",\n",
        "          5: \"Sandal\", \n",
        "          6: \"Shirt\", \n",
        "          7: \"Sneaker\", \n",
        "          8: \"Bag\", \n",
        "          9: \"Ankle Boot\"}\n",
        "target_names = [\"Class {} ({}) :\".format(i,labels[i]) for i in range(num_classes)]"
      ],
      "metadata": {
        "id": "jT8yZAPD0cw9"
      },
      "execution_count": null,
      "outputs": []
    },
    {
      "cell_type": "code",
      "source": [
        "cf = confusion_matrix(np.array(y_true), predicted_classes)\n",
        "print(cf)"
      ],
      "metadata": {
        "colab": {
          "base_uri": "https://localhost:8080/"
        },
        "id": "5sb8Orbe0Njj",
        "outputId": "e7c597fe-b82d-4695-9719-2323e47ed339"
      },
      "execution_count": null,
      "outputs": [
        {
          "output_type": "stream",
          "name": "stdout",
          "text": [
            "[[900   4  12   9   2   0  72   0   1   0]\n",
            " [  0 994   3   0   0   0   2   0   1   0]\n",
            " [ 17   0 861  10  51   0  61   0   0   0]\n",
            " [ 13   5   2 937  26   0  17   0   0   0]\n",
            " [  0   0  10   4 931   0  55   0   0   0]\n",
            " [  0   0   0   0   0 982   1   9   1   7]\n",
            " [ 93   1  22  17  36   0 829   0   2   0]\n",
            " [  0   0   0   0   0   2   0 974   0  24]\n",
            " [  2   1   1   0   1   1   7   0 986   1]\n",
            " [  0   0   0   0   0   1   0  17   0 982]]\n"
          ]
        }
      ]
    },
    {
      "cell_type": "code",
      "source": [
        "df_cm = pd.DataFrame(cf, index = [i for i in target_names],\n",
        "                  columns = [i for i in target_names])\n",
        "plt.figure(figsize = (12,9))\n",
        "sn.heatmap(df_cm, annot=True)"
      ],
      "metadata": {
        "colab": {
          "base_uri": "https://localhost:8080/",
          "height": 774
        },
        "id": "2vNGpYgv0YMs",
        "outputId": "6c926f5f-7a0a-46a6-a1e9-8c466b54447c"
      },
      "execution_count": null,
      "outputs": [
        {
          "output_type": "execute_result",
          "data": {
            "text/plain": [
              "<matplotlib.axes._subplots.AxesSubplot at 0x7fed0de9a590>"
            ]
          },
          "metadata": {},
          "execution_count": 25
        },
        {
          "output_type": "display_data",
          "data": {
            "text/plain": [
              "<Figure size 960x720 with 2 Axes>"
            ],
            "image/png": "[encoded data removed]"
          },
          "metadata": {}
        }
      ]
    },
    {
      "cell_type": "code",
      "source": [
        ""
      ],
      "metadata": {
        "id": "dGR4WxUOpW8o"
      },
      "execution_count": null,
      "outputs": []
    }
  ]
}